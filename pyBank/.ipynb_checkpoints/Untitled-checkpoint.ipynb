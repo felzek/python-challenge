{
 "cells": [
  {
   "cell_type": "code",
   "execution_count": 9,
   "metadata": {},
   "outputs": [
    {
     "name": "stdout",
     "output_type": "stream",
     "text": [
      "885773\n",
      "885773\n",
      "885773\n",
      "885773\n",
      "885773\n",
      "885773\n",
      "885773\n",
      "885773\n",
      "885773\n",
      "885773\n",
      "885773\n",
      "885773\n",
      "885773\n",
      "885773\n",
      "885773\n",
      "885773\n",
      "885773\n",
      "885773\n",
      "885773\n",
      "885773\n",
      "885773\n",
      "885773\n",
      "885773\n",
      "885773\n",
      "885773\n",
      "885773\n",
      "885773\n",
      "885773\n",
      "885773\n",
      "885773\n",
      "885773\n",
      "885773\n",
      "885773\n",
      "885773\n",
      "885773\n",
      "885773\n",
      "885773\n",
      "885773\n",
      "885773\n",
      "885773\n",
      "885773\n",
      "Financial Analysis\n",
      "----------------------------\n",
      "Total Months: 41\n",
      "Total Revenue: $18971412\n"
     ]
    }
   ],
   "source": [
    "# -*- coding: UTF-8 -*-\n",
    "\"\"\"\n",
    "pyBank is a program that enables you to pinpoint any Bank Data's Total revenue, Greatest Increase in Revenue,\n",
    "Average revenue Change, Greatest Decrease in Revenue with one simple run\n",
    "\n",
    "\"\"\"\n",
    "\n",
    "import os\n",
    "import csv\n",
    "\n",
    "csvpath = os.path.join(\"raw_data\",\"budget_data_1.csv\")\n",
    "output_path = os.path.join(\"raw_data\",\"Analysis.csv\")\n",
    "\n",
    "total_months = 0\n",
    "\n",
    "total = 0\n",
    "\n",
    "\n",
    "revenue = []\n",
    "\n",
    "with open(csvpath,newline=\"\") as csvfile: \n",
    "\n",
    "    csvreader = csv.reader(csvfile,delimiter=\",\")\n",
    "\n",
    "    next(csvreader, None)\n",
    "\n",
    "    total_revenue = 0\n",
    "\n",
    "    for row in csvreader:\n",
    "        \n",
    "        total_months = total_months + 1\n",
    "        \n",
    "        total_revenue = total_revenue + int(row[1])\n",
    "\n",
    "        revenue.append(row[1])\n",
    "        \n",
    "    for x in revenue:\n",
    "        \n",
    "      \n",
    "        \n",
    "        print(revenue[x+1]-revenue[x])\n",
    "\n",
    "  \n",
    "\n",
    "      \n",
    "\n",
    "\n",
    "print (\"Financial Analysis\")\n",
    "\n",
    "print (\"----------------------------\")\n",
    "\n",
    "print (\"Total Months: \" + str(total_months))\n",
    "\n",
    "print(\"Total Revenue: $\" + str(total_revenue))\n",
    "\n"
   ]
  },
  {
   "cell_type": "code",
   "execution_count": null,
   "metadata": {
    "collapsed": true
   },
   "outputs": [],
   "source": []
  },
  {
   "cell_type": "code",
   "execution_count": null,
   "metadata": {
    "collapsed": true
   },
   "outputs": [],
   "source": []
  }
 ],
 "metadata": {
  "kernelspec": {
   "display_name": "Python 3",
   "language": "python",
   "name": "python3"
  },
  "language_info": {
   "codemirror_mode": {
    "name": "ipython",
    "version": 3
   },
   "file_extension": ".py",
   "mimetype": "text/x-python",
   "name": "python",
   "nbconvert_exporter": "python",
   "pygments_lexer": "ipython3",
   "version": "3.6.1"
  }
 },
 "nbformat": 4,
 "nbformat_minor": 2
}
